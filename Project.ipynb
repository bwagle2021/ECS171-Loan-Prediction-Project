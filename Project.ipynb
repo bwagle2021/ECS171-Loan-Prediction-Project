{
 "cells": [
  {
   "cell_type": "code",
   "execution_count": 1,
   "id": "ac433c71",
   "metadata": {},
   "outputs": [
    {
     "name": "stdout",
     "output_type": "stream",
     "text": [
      "    Loan_ID Gender Married Dependents     Education Self_Employed  \\\n",
      "0  LP001002   Male      No          0      Graduate            No   \n",
      "1  LP001003   Male     Yes          1      Graduate            No   \n",
      "2  LP001005   Male     Yes          0      Graduate           Yes   \n",
      "3  LP001006   Male     Yes          0  Not Graduate            No   \n",
      "4  LP001008   Male      No          0      Graduate            No   \n",
      "\n",
      "   ApplicantIncome  CoapplicantIncome  LoanAmount  Loan_Amount_Term  \\\n",
      "0             5849                0.0         NaN             360.0   \n",
      "1             4583             1508.0       128.0             360.0   \n",
      "2             3000                0.0        66.0             360.0   \n",
      "3             2583             2358.0       120.0             360.0   \n",
      "4             6000                0.0       141.0             360.0   \n",
      "\n",
      "   Credit_History Property_Area Loan_Status  \n",
      "0             1.0         Urban           Y  \n",
      "1             1.0         Rural           N  \n",
      "2             1.0         Urban           Y  \n",
      "3             1.0         Urban           Y  \n",
      "4             1.0         Urban           Y  \n"
     ]
    }
   ],
   "source": [
    "import pandas as pd\n",
    "import numpy as np\n",
    "from sklearn import preprocessing\n",
    "\n",
    "trainingDf = pd.read_csv('./train_dataset.csv.xls')\n",
    "\n",
    "print(trainingDf.head())\n",
    "\n"
   ]
  },
  {
   "cell_type": "code",
   "execution_count": 2,
   "id": "26f08ce6",
   "metadata": {},
   "outputs": [
    {
     "name": "stdout",
     "output_type": "stream",
     "text": [
      "============COLUMNS WITH EMPTY VALUE=============\n",
      "['Gender', 'Married', 'Dependents', 'Self_Employed', 'LoanAmount', 'Loan_Amount_Term', 'Credit_History']\n"
     ]
    }
   ],
   "source": [
    "print(\"============COLUMNS WITH EMPTY VALUE=============\")\n",
    "print(trainingDf.columns[trainingDf.isna().any()].tolist())"
   ]
  },
  {
   "cell_type": "code",
   "execution_count": 3,
   "id": "8cff27ce",
   "metadata": {},
   "outputs": [],
   "source": [
    "#Dropping loan_id\n",
    "trainingDf = trainingDf.drop(columns=['Loan_ID'])\n",
    "\n",
    "#Populating rows with null data with default values\n",
    "trainingDf['Gender'] = trainingDf['Gender'].fillna('unknown')\n",
    "trainingDf['Married'] = trainingDf['Married'].fillna('unknown')\n",
    "trainingDf['Self_Employed'] = trainingDf['Self_Employed'].fillna('unknown')\n",
    "trainingDf['Dependents'] = trainingDf['Dependents'].fillna(0)\n",
    "\n",
    "#Dropping rows with empty values for following columns 'LoanAmount', 'Loan_Amount_Term', 'Credit_History'\n",
    "trainingDf = trainingDf[trainingDf['LoanAmount'].notna()]\n",
    "trainingDf = trainingDf[trainingDf['Loan_Amount_Term'].notna()]\n",
    "trainingDf = trainingDf[trainingDf['Credit_History'].notna()]\n",
    "\n",
    "trainingDf['Dependents'].replace(\n",
    "    to_replace=['3+'],\n",
    "    value='4',\n",
    "    inplace=True\n",
    ")"
   ]
  },
  {
   "cell_type": "code",
   "execution_count": 4,
   "id": "045290f1",
   "metadata": {},
   "outputs": [
    {
     "name": "stdout",
     "output_type": "stream",
     "text": [
      "============COLUMNS WITH EMPTY VALUE=============\n",
      "[]\n",
      "Remaining rows after dropping data: 529\n"
     ]
    }
   ],
   "source": [
    "print(\"============COLUMNS WITH EMPTY VALUE=============\")\n",
    "print(trainingDf.columns[trainingDf.isna().any()].tolist())\n",
    "print(\"Remaining rows after dropping data:\", len(trainingDf.index))\n"
   ]
  },
  {
   "cell_type": "code",
   "execution_count": 5,
   "id": "a6024945",
   "metadata": {},
   "outputs": [
    {
     "name": "stdout",
     "output_type": "stream",
     "text": [
      "============UNIQUE VALUE FOR CATEGORICAL DATA=============\n",
      "Gender:  ['Male' 'Female' 'unknown']\n",
      "Married:  ['Yes' 'No' 'unknown']\n",
      "Education:  ['Graduate' 'Not Graduate']\n",
      "Self_Employed:  ['No' 'Yes' 'unknown']\n",
      "Property_Area:  ['Rural' 'Urban' 'Semiurban']\n",
      "\n",
      "\n"
     ]
    }
   ],
   "source": [
    "print(\"============UNIQUE VALUE FOR CATEGORICAL DATA=============\")\n",
    "print(\"Gender: \", trainingDf['Gender'].unique())\n",
    "print(\"Married: \", trainingDf['Married'].unique())\n",
    "print(\"Education: \", trainingDf['Education'].unique())\n",
    "print(\"Self_Employed: \", trainingDf['Self_Employed'].unique())\n",
    "print(\"Property_Area: \", trainingDf['Property_Area'].unique())\n",
    "print('\\n')"
   ]
  },
  {
   "cell_type": "code",
   "execution_count": 6,
   "id": "6ac4579a",
   "metadata": {},
   "outputs": [
    {
     "name": "stdout",
     "output_type": "stream",
     "text": [
      "     Gender Married Dependents     Education Self_Employed  ApplicantIncome  \\\n",
      "330    Male      No          1      Graduate            No             4384   \n",
      "410  Female      No          1  Not Graduate           Yes             3867   \n",
      "217    Male     Yes          0      Graduate            No             3727   \n",
      "143    Male     Yes          0      Graduate            No             2698   \n",
      "525    Male     Yes          2      Graduate           Yes            17500   \n",
      "\n",
      "     CoapplicantIncome  LoanAmount  Loan_Amount_Term  Credit_History  \\\n",
      "330             1793.0       117.0             360.0             1.0   \n",
      "410                0.0        62.0             360.0             1.0   \n",
      "217             1775.0       131.0             360.0             1.0   \n",
      "143             2034.0       122.0             360.0             1.0   \n",
      "525                0.0       400.0             360.0             1.0   \n",
      "\n",
      "    Property_Area Loan_Status  \n",
      "330         Urban           Y  \n",
      "410     Semiurban           N  \n",
      "217     Semiurban           Y  \n",
      "143     Semiurban           Y  \n",
      "525         Rural           Y  \n",
      "    Dependents  ApplicantIncome  CoapplicantIncome  LoanAmount  \\\n",
      "330          1             4384             1793.0       117.0   \n",
      "410          1             3867                0.0        62.0   \n",
      "217          0             3727             1775.0       131.0   \n",
      "143          0             2698             2034.0       122.0   \n",
      "525          2            17500                0.0       400.0   \n",
      "\n",
      "     Loan_Amount_Term  Credit_History  \n",
      "330             360.0             1.0  \n",
      "410             360.0             1.0  \n",
      "217             360.0             1.0  \n",
      "143             360.0             1.0  \n",
      "525             360.0             1.0  \n"
     ]
    }
   ],
   "source": [
    "from sklearn import preprocessing\n",
    "from sklearn.model_selection import train_test_split\n",
    "\n",
    "\n",
    "train, test = train_test_split(trainingDf, test_size=0.2, random_state=23)\n",
    "print(train.head())\n",
    "X_train, y_train = train.copy().drop(columns=['Loan_Status']), train['Loan_Status']\n",
    "X_test, y_test = test.copy().drop(columns=['Loan_Status']), test['Loan_Status']\n",
    "\n",
    "Categorical_columns = [\"Gender\", \"Married\", \"Education\", \"Self_Employed\", \"Property_Area\"]\n",
    "Numerical_columns = [\"Dependents\", \"ApplicantIncome\", \"CoapplicantIncome\", \"LoanAmount\", \"Loan_Amount_Term\", \"Credit_History\"]\n",
    "\n",
    "Categorical_X_train = X_train[Categorical_columns]\n",
    "Categorical_X_test = X_test[Categorical_columns]\n",
    "\n",
    "Numerical_X_train = X_train[Numerical_columns]\n",
    "Numerical_X_test = X_test[Numerical_columns]\n",
    "\n",
    "encoder = preprocessing.OneHotEncoder()\n",
    "encoder.fit(Categorical_X_train)\n",
    "Categorical_X_train_encoded = encoder.transform(Categorical_X_train).toarray()\n",
    "Categorical_X_test_encoded = encoder.transform(Categorical_X_test).toarray()\n",
    "\n",
    "print(Numerical_X_train.head())\n",
    "\n",
    "standard_Scaler = preprocessing.MinMaxScaler()\n",
    "standard_Scaler.fit(Numerical_X_train)\n",
    "Numerical_X_train_encoded = standard_Scaler.transform(Numerical_X_train)\n",
    "Numerical_X_test_encoded = standard_Scaler.transform(Numerical_X_test)\n",
    "\n",
    "y_encoder = preprocessing.LabelEncoder()\n",
    "y_encoder.fit(y_train)\n",
    "Y_train_encoded = y_encoder.transform(y_train)\n",
    "Y_test_encoded = y_encoder.transform(y_test)\n",
    "\n",
    "Combined_X_train_encoded = np.concatenate((Categorical_X_train_encoded, Numerical_X_train_encoded), axis=1)\n",
    "Combined_X_test_encoded = np.concatenate((Categorical_X_test_encoded, Numerical_X_test_encoded), axis=1)\n"
   ]
  },
  {
   "cell_type": "code",
   "execution_count": 7,
   "id": "956283a0",
   "metadata": {},
   "outputs": [
    {
     "name": "stdout",
     "output_type": "stream",
     "text": [
      "============ RBF Kernal =============\n",
      "Training: \n",
      "              precision    recall  f1-score   support\n",
      "\n",
      "           0       0.88      0.40      0.55       121\n",
      "           1       0.80      0.98      0.88       302\n",
      "\n",
      "    accuracy                           0.81       423\n",
      "   macro avg       0.84      0.69      0.72       423\n",
      "weighted avg       0.82      0.81      0.79       423\n",
      "\n",
      "Testing: \n",
      "              precision    recall  f1-score   support\n",
      "\n",
      "           0       1.00      0.55      0.71        42\n",
      "           1       0.77      1.00      0.87        64\n",
      "\n",
      "    accuracy                           0.82       106\n",
      "   macro avg       0.89      0.77      0.79       106\n",
      "weighted avg       0.86      0.82      0.81       106\n",
      "\n"
     ]
    }
   ],
   "source": [
    "#Sample use case of encoded data\n",
    "\n",
    "from sklearn.svm import SVC\n",
    "from sklearn.metrics import classification_report\n",
    "\n",
    "print(\"============ RBF Kernal =============\")\n",
    "clf = SVC(kernel='rbf')\n",
    "clf.fit(Combined_X_train_encoded, Y_train_encoded)\n",
    "print(\"Training: \")\n",
    "print(classification_report(Y_train_encoded, clf.predict(Combined_X_train_encoded)))\n",
    "print(\"Testing: \")\n",
    "print(classification_report(Y_test_encoded, clf.predict(Combined_X_test_encoded)))"
   ]
  },
  {
   "cell_type": "code",
   "execution_count": null,
   "id": "96493fe1",
   "metadata": {},
   "outputs": [],
   "source": []
  }
 ],
 "metadata": {
  "kernelspec": {
   "display_name": "Python 3 (ipykernel)",
   "language": "python",
   "name": "python3"
  },
  "language_info": {
   "codemirror_mode": {
    "name": "ipython",
    "version": 3
   },
   "file_extension": ".py",
   "mimetype": "text/x-python",
   "name": "python",
   "nbconvert_exporter": "python",
   "pygments_lexer": "ipython3",
   "version": "3.7.4"
  }
 },
 "nbformat": 4,
 "nbformat_minor": 5
}
